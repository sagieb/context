{
 "cells": [
  {
   "cell_type": "code",
   "execution_count": 1,
   "id": "c2dc7f10-6ad2-416b-bd07-c703d0e8330c",
   "metadata": {},
   "outputs": [],
   "source": [
    "import pandas as pd"
   ]
  },
  {
   "cell_type": "code",
   "execution_count": 5,
   "id": "17037935-253e-4162-9674-9376dadc5206",
   "metadata": {},
   "outputs": [],
   "source": [
    "info = pd.read_excel('bcs.xlsx')\n",
    "with open('seq_bcs.fasta','w') as ofile:\n",
    "    for row in info.iterrows():\n",
    "        ofile.write(\">\" + row[1]['Barcodes'] + \"\\n\" +'^'+row[1]['Barcodes'] + \"\\n\" +\"\\n\")"
   ]
  }
 ],
 "metadata": {
  "kernelspec": {
   "display_name": "mp_py",
   "language": "python",
   "name": "mp_py"
  },
  "language_info": {
   "codemirror_mode": {
    "name": "ipython",
    "version": 3
   },
   "file_extension": ".py",
   "mimetype": "text/x-python",
   "name": "python",
   "nbconvert_exporter": "python",
   "pygments_lexer": "ipython3",
   "version": "3.8.3"
  }
 },
 "nbformat": 4,
 "nbformat_minor": 5
}
