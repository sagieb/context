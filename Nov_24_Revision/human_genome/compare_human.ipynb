{
 "cells": [
  {
   "cell_type": "code",
   "execution_count": 1,
   "id": "d7c00830-8a55-4081-b02a-0721ad243f81",
   "metadata": {
    "tags": []
   },
   "outputs": [],
   "source": [
    "import pandas as pd\n",
    "import seaborn as sns\n",
    "import numpy as np\n",
    "import matplotlib.pyplot as plt\n",
    "import os\n",
    "from Bio.Seq import Seq\n",
    "import re\n",
    "from Bio import pairwise2\n",
    "import itertools\n",
    "import matplotlib\n",
    "matplotlib.rcParams['pdf.fonttype'] = 42\n"
   ]
  },
  {
   "cell_type": "code",
   "execution_count": 2,
   "id": "4a7c0ba3-a6fc-47f8-92c0-b9a2b4bc9e55",
   "metadata": {
    "tags": []
   },
   "outputs": [],
   "source": [
    "def get_rev_comp(sequnce_list):\n",
    "    past_seqs = []\n",
    "    for seq in sequnce_list:\n",
    "        seq_obj = Seq(seq)\n",
    "        search_string = str(seq_obj.reverse_complement())\n",
    "        if  search_string in past_seqs or seq in past_seqs:\n",
    "            continue\n",
    "        else:\n",
    "            past_seqs.extend([seq,search_string])\n",
    "    return past_seqs\n",
    "def get_cyclic_seq(sequence):\n",
    "    \"\"\" input a [sequence] and get all cyclic combiantions of it as a set\n",
    "    \"\"\"\n",
    "    cyc_seqs = []\n",
    "    seq_len = len(sequence)\n",
    "    for i in range(seq_len):\n",
    "        cyc_seqs.append(sequence[i+1:]+sequence[:i+1])\n",
    "    return set(cyc_seqs)\n",
    "def get_seq_set(sequence):\n",
    "    \"\"\" emter a [sequence] and get all posiible cyclic and reverse compliments of it as a set\n",
    "    \"\"\"\n",
    "    seq_set = []\n",
    "    seq_len = len(sequence)\n",
    "    seq_set.extend( get_rev_comp([ str(sequence) ]) )\n",
    "    if seq_set[0] == seq_set[1]:\n",
    "        seq_set.remove(seq_set[1])\n",
    "        seq_set.extend(get_cyclic_seq(seq_set[0]))\n",
    "    else:\n",
    "        seq_set.extend(get_cyclic_seq(seq_set[0]))\n",
    "        seq_set.extend(get_cyclic_seq(seq_set[1]))\n",
    "    return set(seq_set)\n",
    "\n",
    "def rep_list(curr_list):\n",
    "    return len(curr_list)*[curr_list]\n",
    "\n",
    "def lambda_count(first,second):\n",
    "    return lambda x:(x.count(first) + x.count(second)) / len(x)"
   ]
  },
  {
   "cell_type": "code",
   "execution_count": 3,
   "id": "c736a9cc-b3b9-4eca-85a5-dc9da73207d9",
   "metadata": {},
   "outputs": [],
   "source": [
    "human_reps = pd.read_csv('fig_S3_data.csv',index_col=0)\n",
    "human_reps.set_index('repeat_unit', inplace=True)\n",
    "new_inds = []\n",
    "for ind in human_reps.index:\n",
    "    if len(ind)<2:\n",
    "        new_inds.append(ind*2)\n",
    "    else:\n",
    "        new_inds.append(ind)\n",
    "human_reps.index = new_inds"
   ]
  },
  {
   "cell_type": "markdown",
   "id": "aea6435c-a1bc-4105-b8f9-338bd2eb9adf",
   "metadata": {
    "jp-MarkdownHeadingCollapsed": true,
    "tags": []
   },
   "source": [
    "# Figure 7A"
   ]
  },
  {
   "cell_type": "code",
   "execution_count": 4,
   "id": "cbb32069-145d-4948-b6e3-1b2c6dc4d7c7",
   "metadata": {},
   "outputs": [
    {
     "data": {
      "text/plain": [
       "<matplotlib.legend.Legend at 0x2b4d83f7fc70>"
      ]
     },
     "execution_count": 4,
     "metadata": {},
     "output_type": "execute_result"
    },
    {
     "data": {
      "image/png": "[encoded data removed]",
      "text/plain": [
       "<Figure size 576x432 with 1 Axes>"
      ]
     },
     "metadata": {
      "needs_background": "light"
     },
     "output_type": "display_data"
    }
   ],
   "source": [
    "curr_tf = 'Msn2NONDBDOE'\n",
    "# scat_order = ['highGC','[GC]/[CG][AT]/[TA]','Other']\n",
    "# tfs = ['Msn2','Msn2DBDOE','Msn2NONDBDOE','Reb1','Mot3','Cbf1','freeMnase']\n",
    "# data_int = ['delta_median_on','delta_median_off']\n",
    "# corrs = np.empty((len(tfs),len(data_int)))\n",
    "\n",
    "# for c,curr_data in enumerate(data_int):\n",
    "fig,curr_ax = plt.subplots(1,1,figsize=(8,6))\n",
    "fig.subplots_adjust(hspace=0.5,wspace=0.5)\n",
    "\n",
    "binding_df = pd.read_csv(curr_tf+'_avg(on,off)_sorted.csv',index_col=0)\n",
    "list_of_opts = []\n",
    "for curr_str in binding_df.index:\n",
    "    list_of_opts.append(list(get_seq_set(curr_str)))\n",
    "\n",
    "binding_df['opt_len'] = [len(clist) for clist in list_of_opts]\n",
    "for_df = []\n",
    "for curr_list in list_of_opts:\n",
    "    for_df.extend(rep_list(curr_list))\n",
    "# list(map(rep_list,list_of_lists))\n",
    "str_dict = dict(zip(np.concatenate(np.array(list_of_opts,dtype=object)),for_df))\n",
    "fin_df = pd.DataFrame({key:pd.Series(value) for key,value in str_dict.items()}).T\n",
    "\n",
    "lengths_dict = binding_df['opt_len'].to_dict()\n",
    "avgs_dict = binding_df['delta_median_on'].to_dict()\n",
    "fin_df['values'] = np.concatenate(binding_df.reset_index().loc[:,'index'].apply(lambda x: lengths_dict[x]*[(avgs_dict[x])]).values)\n",
    "fin_df['original'] = fin_df.drop('values',axis=1).reset_index().loc[:,0].values\n",
    "combined_df = pd.concat([human_reps,fin_df],axis=1)\n",
    "combined_df['log_sum'] = combined_df.summed_length.apply(np.log10).values\n",
    "combined_df = combined_df.loc[combined_df.summed_length.dropna().index,:].sort_values(by='values')\n",
    "\n",
    "mfunc = lambda_count('A','T')\n",
    "highAT = list((combined_df.reset_index()['index'].apply(mfunc)>0.6).values)\n",
    "mfunc = lambda_count('G','C')\n",
    "highGC = list((combined_df.reset_index()['index'].apply(mfunc)>0.6).values)\n",
    "doubleGCAT = ['GCAT','CGAT','GCTA','CGTA']\n",
    "in_str = []\n",
    "for curr_str in combined_df.index:\n",
    "    curr_str = curr_str*3\n",
    "    in_str.append(any(substring in curr_str for substring in doubleGCAT))\n",
    "\n",
    "mfunc = lambda_count('G','A')\n",
    "homoPurinesA = (combined_df.reset_index()['index'].apply(mfunc)==1).values\n",
    "mfunc = lambda_count('C','T')\n",
    "homoPurinesB = (combined_df.reset_index()['index'].apply(mfunc)==1).values\n",
    "homoPurines = np.logical_or(homoPurinesA,homoPurinesB)\n",
    "    \n",
    "STR_info = ['highGC' if b1 else '[GC]/[CG][AT]/[TA]' if b2 else 'highAT' \n",
    "            if b3 else 'homoPurine' if b4 else 'Other' for b1, b2, b3 ,b4\n",
    "            in zip(highGC, in_str,highAT,homoPurines)]\n",
    "combined_df['STR_info'] = STR_info\n",
    "combined_df['STR_len'] = combined_df.reset_index()['index'].apply(len).values\n",
    "\n",
    "# curr_ax = axes.ravel()[i]\n",
    "# sns.scatterplot(data=combined_df,x='log_sum',y='values',hue='STR_info', s=100, ax=curr_ax, hue_order=scat_order, style='STR_len')\n",
    "sns.scatterplot(data=combined_df,x='log_sum',y='values',hue='STR_info', s=100, ax=curr_ax)\n",
    "\n",
    "curr_ax.set_title(curr_tf + ' r:' + str(np.round(combined_df.corr(method='spearman').iloc[1,2],2)))\n",
    "curr_ax.set_ylabel('Score')\n",
    "curr_ax.set_xlabel('Total STR length (human)')\n",
    "curr_ax.legend(bbox_to_anchor=(1.05, 1), loc='upper left', borderaxespad=0)\n",
    "    # for i in combined_df.index:\n",
    "            # curr_ax.annotate(i,(combined_df.log_sum[i],combined_df.loc[i,'values']))\n",
    "# fig.savefig('nonDBDvhuman.pdf')"
   ]
  },
  {
   "cell_type": "markdown",
   "id": "f325f05c-c536-40cb-8031-16812631bcc0",
   "metadata": {
    "jp-MarkdownHeadingCollapsed": true,
    "tags": []
   },
   "source": [
    "# Figure 7B"
   ]
  },
  {
   "cell_type": "code",
   "execution_count": 5,
   "id": "8b084f38-d624-4056-9a4c-9f4b18a282eb",
   "metadata": {},
   "outputs": [
    {
     "data": {
      "text/plain": [
       "<AxesSubplot:>"
      ]
     },
     "execution_count": 5,
     "metadata": {},
     "output_type": "execute_result"
    },
    {
     "data": {
      "image/png": "[encoded data removed]",
      "text/plain": [
       "<Figure size 144x432 with 2 Axes>"
      ]
     },
     "metadata": {
      "needs_background": "light"
     },
     "output_type": "display_data"
    }
   ],
   "source": [
    "curr_tf = 'Msn2'\n",
    "scat_order = ['highGC','[GC]/[CG][AT]/[TA]','Other']\n",
    "tfs = ['Msn2','Msn2DBDOE','Msn2NONDBDOE','Reb1','Mot3','Cbf1','freeMnase']\n",
    "data_int = ['delta_median_on','delta_median_off']\n",
    "corrs = np.empty((len(tfs),len(data_int)))\n",
    "\n",
    "for c,curr_data in enumerate(data_int):\n",
    "    # fig,axes = plt.subplots(3,3,figsize=(15,15))\n",
    "    # fig.subplots_adjust(hspace=0.5,wspace=0.5)\n",
    "    for i,curr_tf in enumerate(tfs):\n",
    "        binding_df = pd.read_csv(curr_tf+'_avg(on,off)_sorted.csv',index_col=0)\n",
    "        list_of_opts = []\n",
    "        for curr_str in binding_df.index:\n",
    "            list_of_opts.append(list(get_seq_set(curr_str)))\n",
    "\n",
    "        binding_df['opt_len'] = [len(clist) for clist in list_of_opts]\n",
    "        for_df = []\n",
    "        for curr_list in list_of_opts:\n",
    "            for_df.extend(rep_list(curr_list))\n",
    "        # list(map(rep_list,list_of_lists))\n",
    "        str_dict = dict(zip(np.concatenate(np.array(list_of_opts,dtype=object)),for_df))\n",
    "        fin_df = pd.DataFrame({key:pd.Series(value) for key,value in str_dict.items()}).T\n",
    "\n",
    "        lengths_dict = binding_df['opt_len'].to_dict()\n",
    "        avgs_dict = binding_df[curr_data].to_dict()\n",
    "        fin_df['values'] = np.concatenate(binding_df.reset_index().loc[:,'index'].apply(lambda x: lengths_dict[x]*[(avgs_dict[x])]).values)\n",
    "        fin_df['original'] = fin_df.drop('values',axis=1).reset_index().loc[:,0].values\n",
    "        combined_df = pd.concat([human_reps,fin_df],axis=1)\n",
    "        combined_df['log_sum'] = combined_df.summed_length.apply(np.log10).values\n",
    "        combined_df = combined_df.loc[combined_df.summed_length.dropna().index,:].sort_values(by='values')\n",
    "        corrs[i,c] = np.round(combined_df.corr(method='spearman').iloc[1,2],2)\n",
    "\n",
    "        mfunc = lambda x:(x.count('G') + x.count('C')) / len(x)\n",
    "        highGC = list((combined_df.reset_index()['index'].apply(mfunc)>0.6).values)\n",
    "        doubleGCAT = ['GCAT','CGAT','GCTA','CGTA']\n",
    "        in_str = []\n",
    "        for curr_str in combined_df.index:\n",
    "            curr_str = curr_str*3\n",
    "            in_str.append(any(substring in curr_str for substring in doubleGCAT))\n",
    "        STR_info = ['highGC' if b1 else '[GC]/[CG][AT]/[TA]' if b2 else 'Other' for b1, b2 in zip(highGC, in_str)]\n",
    "        combined_df['STR_info']=STR_info\n",
    "        combined_df['STR_len'] = combined_df.reset_index()['index'].apply(len).values\n",
    "\n",
    "#         curr_ax = axes.ravel()[i]\n",
    "#         # sns.scatterplot(data=combined_df,x='log_sum',y='values',hue='STR_info', s=100, ax=curr_ax, hue_order=scat_order, style='STR_len')\n",
    "#         sns.scatterplot(data=combined_df,x='log_sum',y='values',hue='STR_info', s=100, ax=curr_ax)\n",
    "\n",
    "#         curr_ax.set_title(curr_tf + ' r:' + str(np.round(combined_df.corr(method='spearman').iloc[1,2],2)))\n",
    "#         curr_ax.set_ylabel('Score')\n",
    "#         curr_ax.set_xlabel('Total STR length (human)')\n",
    "#         curr_ax.legend(bbox_to_anchor=(1.05, 1), loc='upper left', borderaxespad=0)\n",
    "        # for i in combined_df.index:\n",
    "            # curr_ax.annotate(i,(combined_df.log_sum[i],combined_df.loc[i,'values']))\n",
    "corr_df = pd.DataFrame(corrs,index=tfs,columns=['ON','OFF'])\n",
    "corr_df = corr_df.loc[corr_df.mean(axis=1).sort_values().index,:]\n",
    "fig,ax = plt.subplots(1,1,figsize=(2,6))\n",
    "sns.heatmap(corr_df,cmap='vlag',center=0,ax=ax)\n",
    "# fig.savefig('datavhuman_corrs.pdf')"
   ]
  },
  {
   "cell_type": "markdown",
   "id": "fbec44ad-d309-4086-82e5-408b711d07bf",
   "metadata": {
    "tags": []
   },
   "source": [
    "# other cells"
   ]
  },
  {
   "cell_type": "code",
   "execution_count": 6,
   "id": "6f07fbf1-ba76-40cb-a555-5bf044d26622",
   "metadata": {},
   "outputs": [],
   "source": [
    "mfunc = lambda_count('A','T')\n",
    "highAT = list((combined_df.reset_index()['index'].apply(mfunc)>0.6).values)\n",
    "mfunc = lambda_count('G','C')\n",
    "highGC = list((combined_df.reset_index()['index'].apply(mfunc)>0.6).values)\n",
    "doubleGCAT = ['GCAT','CGAT','GCTA','CGTA']\n",
    "in_str = []\n",
    "for curr_str in combined_df.index:\n",
    "    curr_str = curr_str*3\n",
    "    in_str.append(any(substring in curr_str for substring in doubleGCAT))\n",
    "\n",
    "mfunc = lambda_count('G','A')\n",
    "homoPurinesA = (combined_df.reset_index()['index'].apply(mfunc)==1).values\n",
    "mfunc = lambda_count('C','T')\n",
    "homoPurinesB = (combined_df.reset_index()['index'].apply(mfunc)==1).values\n",
    "homoPurines = np.logical_or(homoPurinesA,homoPurinesB)\n",
    "    \n",
    "STR_info = ['highGC' if b1 else '[GC]/[CG][AT]/[TA]' if b2 else 'highAT' \n",
    "            if b3 else 'homoPurine' if b4 else 'Other' for b1, b2, b3 ,b4\n",
    "            in zip(highGC, in_str,highAT,homoPurines)]\n",
    "# combined_df['STR_info'] = STR_info"
   ]
  },
  {
   "cell_type": "code",
   "execution_count": 175,
   "id": "d7e33dd8-f5a8-4de6-a681-260fab431b2c",
   "metadata": {},
   "outputs": [],
   "source": []
  },
  {
   "cell_type": "code",
   "execution_count": null,
   "id": "02c1078e-acb0-468f-946f-d3dce9da360c",
   "metadata": {},
   "outputs": [],
   "source": [
    "STR_info"
   ]
  },
  {
   "cell_type": "code",
   "execution_count": null,
   "id": "23b97e08-c74a-467f-af28-e575a6f682e3",
   "metadata": {},
   "outputs": [],
   "source": [
    "combined_df.reset_index()['index']"
   ]
  }
 ],
 "metadata": {
  "kernelspec": {
   "display_name": "Python 3 (ipykernel)",
   "language": "python",
   "name": "python3"
  },
  "language_info": {
   "codemirror_mode": {
    "name": "ipython",
    "version": 3
   },
   "file_extension": ".py",
   "mimetype": "text/x-python",
   "name": "python",
   "nbconvert_exporter": "python",
   "pygments_lexer": "ipython3",
   "version": "3.11.3"
  }
 },
 "nbformat": 4,
 "nbformat_minor": 5
}
